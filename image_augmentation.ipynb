{
 "cells": [
  {
   "cell_type": "code",
   "execution_count": 1,
   "id": "e935ddd9",
   "metadata": {},
   "outputs": [
    {
     "data": {
      "text/plain": [
       "device(type='cuda', index=0)"
      ]
     },
     "execution_count": 1,
     "metadata": {},
     "output_type": "execute_result"
    }
   ],
   "source": [
    "import numpy as np\n",
    "import torch\n",
    "\n",
    "use_cuda = torch.cuda.is_available()\n",
    "device = torch.device(\"cuda:0\" if use_cuda else \"cpu\")\n",
    "device"
   ]
  },
  {
   "cell_type": "code",
   "execution_count": 2,
   "id": "a433fb68",
   "metadata": {},
   "outputs": [],
   "source": [
    "import torchvision\n",
    "from torchvision import models\n",
    "from torchvision import transforms\n",
    "import os\n",
    "import glob\n",
    "from PIL import Image\n",
    "from torch.utils.data import Dataset, DataLoader\n",
    "import matplotlib.pyplot as plt\n",
    "\n",
    "from torchvision.models.segmentation.deeplabv3 import DeepLabHead\n",
    "from torchvision import models\n",
    "from random import randint\n",
    "\n",
    "# tensor -> PIL image\n",
    "unloader = transforms.ToPILImage()\n",
    "\n",
    "# flip = transforms.RandomHorizontalFlip(p=1)"
   ]
  },
  {
   "cell_type": "code",
   "execution_count": 16,
   "id": "c414fb6f",
   "metadata": {},
   "outputs": [],
   "source": [
    "class ToyDataset(Dataset):\n",
    "    def __init__(self, dark_img_dir, light_img_dir):\n",
    "        self.dark_img_dir = dark_img_dir\n",
    "        self.light_img_dir = light_img_dir\n",
    "        self.n_dark = len(os.listdir(self.dark_img_dir))\n",
    "        self.n_light = len(os.listdir(self.light_img_dir))\n",
    "\n",
    "    def __len__(self):     \n",
    "        return min(self.n_dark, self.n_light)\n",
    "\n",
    "    def __getitem__(self, idx):\n",
    "        \n",
    "        filename = os.listdir(self.light_img_dir)[idx]\n",
    "        \n",
    "        light_img_path = f\"{self.light_img_dir}{filename}\"\n",
    "        light = Image.open(light_img_path).convert(\"RGB\")\n",
    "        \n",
    "        dark_img_path = f\"{self.dark_img_dir}{filename}\"\n",
    "        dark = Image.open(dark_img_path).convert(\"RGB\")        \n",
    "        \n",
    "#         if random()>0.5:\n",
    "#             light = transforms.functional.rotate(light, 30)\n",
    "#             dark = transforms.functional.rotate(dark, 30)\n",
    "#         if random()>0.5:\n",
    "#             light = transforms.functional.rotate(light, 330)\n",
    "#             dark = transforms.functional.rotate(dark, 330)\n",
    "#         if random()>0.5:\n",
    "#             light = flip(light)\n",
    "#             dark = flip(dark)\n",
    "\n",
    "        s = randint(600, 1000)\n",
    "        transform = transforms.Compose([\n",
    "            transforms.Resize(s),\n",
    "            transforms.CenterCrop(600),\n",
    "            transforms.ToTensor(),\n",
    "        ])\n",
    "        \n",
    "        light = transform(light)\n",
    "        dark = transform(dark)         \n",
    "\n",
    "        return dark, light\n",
    "\n",
    "batch_size = 1\n",
    "    \n",
    "train_dark_dir = f\"./data/train/dark/\"\n",
    "train_light_dir = f\"./data/train/light/\"\n",
    "training_set = ToyDataset(train_dark_dir,train_light_dir)\n",
    "training_generator = DataLoader(training_set, batch_size=batch_size, shuffle=True)\n",
    "\n",
    "val_dark_dir = f\"./data/test/dark/\"\n",
    "val_light_dir = f\"./data/test/light/\"\n",
    "validation_set = ToyDataset(val_dark_dir, val_light_dir)\n",
    "validation_generator = DataLoader(validation_set, batch_size=batch_size, shuffle=True)"
   ]
  },
  {
   "cell_type": "code",
   "execution_count": 4,
   "id": "d0180750",
   "metadata": {},
   "outputs": [],
   "source": [
    "# generate training images\n",
    "n = 1\n",
    "cycle = 5\n",
    "dark_save_path = \"./data_augment/train/dark/\"\n",
    "light_save_path = \"./data_augment/train/light/\"\n",
    "for i in range(cycle):\n",
    "    for item in training_generator:\n",
    "        dark, light = item\n",
    "        dark = unloader(dark[0,])\n",
    "        light = unloader(light[0,])\n",
    "        dark.save(dark_save_path+f\"{n}.jpg\")\n",
    "        light.save(light_save_path+f\"{n}.jpg\")\n",
    "        n += 1\n"
   ]
  },
  {
   "cell_type": "code",
   "execution_count": 17,
   "id": "00720c65",
   "metadata": {},
   "outputs": [],
   "source": [
    "# generate testing images\n",
    "n = 1\n",
    "cycle = 1\n",
    "dark_save_path = \"./data_augment/test/dark/\"\n",
    "light_save_path = \"./data_augment/test/light/\"\n",
    "for i in range(cycle):\n",
    "    for item in validation_generator:\n",
    "        dark, light = item\n",
    "        dark = unloader(dark[0,])\n",
    "        light = unloader(light[0,])\n",
    "        dark.save(dark_save_path+f\"{n}.jpg\")\n",
    "        light.save(light_save_path+f\"{n}.jpg\")\n",
    "        n += 1"
   ]
  },
  {
   "cell_type": "code",
   "execution_count": null,
   "id": "7e556bd3",
   "metadata": {},
   "outputs": [],
   "source": []
  }
 ],
 "metadata": {
  "kernelspec": {
   "display_name": "Python 3 (ipykernel)",
   "language": "python",
   "name": "python3"
  },
  "language_info": {
   "codemirror_mode": {
    "name": "ipython",
    "version": 3
   },
   "file_extension": ".py",
   "mimetype": "text/x-python",
   "name": "python",
   "nbconvert_exporter": "python",
   "pygments_lexer": "ipython3",
   "version": "3.7.3"
  }
 },
 "nbformat": 4,
 "nbformat_minor": 5
}
